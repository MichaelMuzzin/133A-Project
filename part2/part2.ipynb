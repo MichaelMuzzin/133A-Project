{
 "cells": [
  {
   "cell_type": "code",
   "execution_count": 10,
   "metadata": {},
   "outputs": [],
   "source": [
    "import pandas as pd\n",
    "from collections import Counter\n",
    "import numpy as np\n",
    "import matplotlib.pyplot as plt\n",
    "import os\n",
    "from setting import DROP_FEATURES\n",
    "plt.style.use('ggplot')"
   ]
  },
  {
   "cell_type": "code",
   "execution_count": null,
   "metadata": {},
   "outputs": [
    {
     "name": "stderr",
     "output_type": "stream",
     "text": [
      "/var/folders/yy/736wzgqn4dbf87vndn5ny1pm0000gn/T/ipykernel_90504/1541719033.py:6: FutureWarning: When grouping with a length-1 list-like, you will need to pass a length-1 tuple to get_group in a future version of pandas. Pass `(name,)` instead of `name` to silence this warning.\n",
      "  America = country_grp.get_group('United States of America').copy()\n"
     ]
    },
    {
     "data": {
      "text/plain": [
       "Employment\n",
       "Employed, full-time                                                                                                                                                                                                     7389\n",
       "Student, full-time                                                                                                                                                                                                       605\n",
       "Independent contractor, freelancer, or self-employed                                                                                                                                                                     594\n",
       "Employed, full-time;Independent contractor, freelancer, or self-employed                                                                                                                                                 534\n",
       "Not employed, but looking for work                                                                                                                                                                                       421\n",
       "Retired                                                                                                                                                                                                                  203\n",
       "Student, full-time;Employed, part-time                                                                                                                                                                                   170\n",
       "Employed, full-time;Student, full-time                                                                                                                                                                                   135\n",
       "Employed, full-time;Student, part-time                                                                                                                                                                                   134\n",
       "Not employed, and not looking for work                                                                                                                                                                                   107\n",
       "Employed, part-time                                                                                                                                                                                                      107\n",
       "I prefer not to say                                                                                                                                                                                                       96\n",
       "Student, full-time;Not employed, but looking for work                                                                                                                                                                     91\n",
       "Not employed, but looking for work;Independent contractor, freelancer, or self-employed                                                                                                                                   64\n",
       "Student, full-time;Not employed, and not looking for work                                                                                                                                                                 50\n",
       "Independent contractor, freelancer, or self-employed;Employed, part-time                                                                                                                                                  37\n",
       "Student, full-time;Independent contractor, freelancer, or self-employed                                                                                                                                                   36\n",
       "Student, part-time;Employed, part-time                                                                                                                                                                                    35\n",
       "Student, part-time                                                                                                                                                                                                        33\n",
       "Independent contractor, freelancer, or self-employed;Retired                                                                                                                                                              18\n",
       "Employed, full-time;Independent contractor, freelancer, or self-employed;Student, part-time                                                                                                                               18\n",
       "Employed, full-time;Employed, part-time                                                                                                                                                                                   17\n",
       "Not employed, but looking for work;Student, part-time                                                                                                                                                                     16\n",
       "Independent contractor, freelancer, or self-employed;Student, part-time                                                                                                                                                   16\n",
       "Student, full-time;Independent contractor, freelancer, or self-employed;Employed, part-time                                                                                                                               15\n",
       "Employed, full-time;Student, full-time;Employed, part-time                                                                                                                                                                15\n",
       "Employed, full-time;Independent contractor, freelancer, or self-employed;Employed, part-time                                                                                                                              14\n",
       "Employed, full-time;Student, full-time;Independent contractor, freelancer, or self-employed                                                                                                                               14\n",
       "Independent contractor, freelancer, or self-employed;Not employed, and not looking for work                                                                                                                               10\n",
       "Not employed, and not looking for work;Retired                                                                                                                                                                            10\n",
       "Student, full-time;Not employed, but looking for work;Independent contractor, freelancer, or self-employed                                                                                                                 8\n",
       "Independent contractor, freelancer, or self-employed;Student, part-time;Employed, part-time                                                                                                                                7\n",
       "Employed, full-time;Not employed, but looking for work                                                                                                                                                                     7\n",
       "Not employed, but looking for work;Not employed, and not looking for work                                                                                                                                                  7\n",
       "Not employed, but looking for work;Independent contractor, freelancer, or self-employed;Student, part-time                                                                                                                 6\n",
       "Student, full-time;Student, part-time                                                                                                                                                                                      4\n",
       "Independent contractor, freelancer, or self-employed;Not employed, and not looking for work;Retired                                                                                                                        4\n",
       "Student, full-time;Independent contractor, freelancer, or self-employed;Not employed, and not looking for work                                                                                                             4\n",
       "Not employed, but looking for work;Independent contractor, freelancer, or self-employed;Retired                                                                                                                            4\n",
       "Not employed, but looking for work;Independent contractor, freelancer, or self-employed;Employed, part-time                                                                                                                3\n",
       "Not employed, but looking for work;Retired                                                                                                                                                                                 3\n",
       "Not employed, but looking for work;Employed, part-time                                                                                                                                                                     3\n",
       "Not employed, and not looking for work;Student, part-time                                                                                                                                                                  2\n",
       "Employed, full-time;Student, part-time;Employed, part-time                                                                                                                                                                 2\n",
       "Student, part-time;Retired                                                                                                                                                                                                 2\n",
       "Student, full-time;Not employed, but looking for work;Employed, part-time                                                                                                                                                  2\n",
       "Employed, full-time;Student, full-time;Student, part-time;Employed, part-time                                                                                                                                              2\n",
       "Not employed, but looking for work;Independent contractor, freelancer, or self-employed;Not employed, and not looking for work                                                                                             2\n",
       "Employed, full-time;Retired                                                                                                                                                                                                2\n",
       "Independent contractor, freelancer, or self-employed;Student, part-time;Retired                                                                                                                                            2\n",
       "Employed, full-time;Independent contractor, freelancer, or self-employed;Employed, part-time;Retired                                                                                                                       1\n",
       "Student, full-time;Independent contractor, freelancer, or self-employed;Employed, part-time;Retired                                                                                                                        1\n",
       "Student, full-time;Not employed, but looking for work;Student, part-time                                                                                                                                                   1\n",
       "Student, full-time;Not employed, but looking for work;Independent contractor, freelancer, or self-employed;Employed, part-time                                                                                             1\n",
       "Employed, full-time;Student, full-time;Not employed, but looking for work;Independent contractor, freelancer, or self-employed;Not employed, and not looking for work;Student, part-time;Employed, part-time;Retired       1\n",
       "Employed, part-time;Retired                                                                                                                                                                                                1\n",
       "Independent contractor, freelancer, or self-employed;Employed, part-time;Retired                                                                                                                                           1\n",
       "Not employed, but looking for work;Independent contractor, freelancer, or self-employed;Student, part-time;Employed, part-time                                                                                             1\n",
       "Student, full-time;Independent contractor, freelancer, or self-employed;Student, part-time                                                                                                                                 1\n",
       "Student, full-time;Not employed, but looking for work;Not employed, and not looking for work                                                                                                                               1\n",
       "Student, full-time;Not employed, but looking for work;Independent contractor, freelancer, or self-employed;Student, part-time;Employed, part-time;Retired                                                                  1\n",
       "Employed, full-time;Not employed, and not looking for work                                                                                                                                                                 1\n",
       "Employed, full-time;Independent contractor, freelancer, or self-employed;Retired                                                                                                                                           1\n",
       "Student, full-time;Not employed, but looking for work;Independent contractor, freelancer, or self-employed;Student, part-time                                                                                              1\n",
       "Student, full-time;Not employed, and not looking for work;Student, part-time                                                                                                                                               1\n",
       "Name: count, dtype: int64"
      ]
     },
     "execution_count": 12,
     "metadata": {},
     "output_type": "execute_result"
    }
   ],
   "source": [
    "df = pd.read_csv('survey_results_public_2024.csv' , index_col='ResponseId')\n",
    "pd.set_option('display.max_columns', 35)\n",
    "pd.set_option('display.max_rows', 100)\n",
    "df = df.drop(DROP_FEATURES, axis=1)\n",
    "country_grp = df.groupby(['Country'])\n",
    "America = country_grp.get_group('United States of America').copy()\n",
    "\n",
    "employment = America['Employment'].value_counts()\n",
    "employment"
   ]
  },
  {
   "cell_type": "code",
   "execution_count": null,
   "metadata": {},
   "outputs": [],
   "source": []
  }
 ],
 "metadata": {
  "kernelspec": {
   "display_name": "Python 3",
   "language": "python",
   "name": "python3"
  },
  "language_info": {
   "codemirror_mode": {
    "name": "ipython",
    "version": 3
   },
   "file_extension": ".py",
   "mimetype": "text/x-python",
   "name": "python",
   "nbconvert_exporter": "python",
   "pygments_lexer": "ipython3",
   "version": "3.10.16"
  }
 },
 "nbformat": 4,
 "nbformat_minor": 2
}
