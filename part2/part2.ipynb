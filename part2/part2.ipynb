{
 "cells": [
  {
   "cell_type": "code",
   "execution_count": 10,
   "metadata": {},
   "outputs": [],
   "source": [
    "import pandas as pd\n",
    "from collections import Counter\n",
    "import numpy as np\n",
    "import matplotlib.pyplot as plt\n",
    "import os\n",
    "from setting import DROP_FEATURES\n",
    "plt.style.use('ggplot')"
   ]
  },
  {
   "cell_type": "code",
   "execution_count": 11,
   "metadata": {},
   "outputs": [
    {
     "data": {
      "text/plain": [
       "Employment\n",
       "Employed, full-time                                                                                                                                  39041\n",
       "Independent contractor, freelancer, or self-employed                                                                                                  4846\n",
       "Student, full-time                                                                                                                                    4709\n",
       "Employed, full-time;Independent contractor, freelancer, or self-employed                                                                              3557\n",
       "Not employed, but looking for work                                                                                                                    2341\n",
       "                                                                                                                                                     ...  \n",
       "Employed, full-time;Student, full-time;Independent contractor, freelancer, or self-employed;Student, part-time;Employed, part-time;Retired               1\n",
       "Employed, full-time;Independent contractor, freelancer, or self-employed;Student, part-time;Retired                                                      1\n",
       "Employed, full-time;Independent contractor, freelancer, or self-employed;Employed, part-time;Retired                                                     1\n",
       "Student, full-time;Not employed, but looking for work;Independent contractor, freelancer, or self-employed;Not employed, and not looking for work        1\n",
       "Not employed, but looking for work;Independent contractor, freelancer, or self-employed;Student, part-time;Retired                                       1\n",
       "Name: count, Length: 110, dtype: int64"
      ]
     },
     "execution_count": 11,
     "metadata": {},
     "output_type": "execute_result"
    }
   ],
   "source": [
    "df = pd.read_csv('survey_results_public_2024.csv' , index_col='ResponseId')\n",
    "pd.set_option('display.max_columns', 35)\n",
    "pd.set_option('display.max_rows', 100)\n",
    "df = df.drop(DROP_FEATURES, axis=1)\n",
    "employment = df['Employment'].value_counts()\n",
    "employment"
   ]
  },
  {
   "cell_type": "code",
   "execution_count": null,
   "metadata": {},
   "outputs": [],
   "source": []
  }
 ],
 "metadata": {
  "kernelspec": {
   "display_name": "Python 3",
   "language": "python",
   "name": "python3"
  },
  "language_info": {
   "codemirror_mode": {
    "name": "ipython",
    "version": 3
   },
   "file_extension": ".py",
   "mimetype": "text/x-python",
   "name": "python",
   "nbconvert_exporter": "python",
   "pygments_lexer": "ipython3",
   "version": "3.10.16"
  }
 },
 "nbformat": 4,
 "nbformat_minor": 2
}
